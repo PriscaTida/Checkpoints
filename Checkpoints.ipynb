{
 "cells": [
  {
   "cell_type": "code",
   "execution_count": 12,
   "id": "9139b8cf",
   "metadata": {},
   "outputs": [
    {
     "name": "stdout",
     "output_type": "stream",
     "text": [
      "Response 1\n",
      "Your first and last name :Tida Prisca\n",
      "The name in reverse order is : acsirP adiT\n"
     ]
    }
   ],
   "source": [
    "print('Response 1')\n",
    "Name = input('Your first and last name :')\n",
    "def reverse_order(Name):\n",
    "    return Name[::-1]\n",
    "\n",
    "x = reverse_order(Name)\n",
    "print('The name in reverse order is :',x)\n",
    "\n",
    "    \n"
   ]
  },
  {
   "cell_type": "code",
   "execution_count": 5,
   "id": "b0367e07",
   "metadata": {},
   "outputs": [
    {
     "name": "stdout",
     "output_type": "stream",
     "text": [
      "Response 2\n",
      "Please enter an integer: 5\n",
      "615\n"
     ]
    }
   ],
   "source": [
    "print('Response 2')\n",
    "Integer = int(input('Please enter an integer: '))\n",
    "n=str(Integer)\n",
    "nn=n+n\n",
    "nnn=n+n+n\n",
    "Result=Integer+int(nn)+int(nnn)\n",
    "print(Result)"
   ]
  },
  {
   "cell_type": "code",
   "execution_count": 10,
   "id": "419af329",
   "metadata": {},
   "outputs": [
    {
     "name": "stdout",
     "output_type": "stream",
     "text": [
      "Response 3\n",
      "Enter a number: 43\n",
      "The number 43 is odd\n"
     ]
    }
   ],
   "source": [
    "print('Response 3')\n",
    "Number = input('Enter a number: ')\n",
    "Num = int(Number)\n",
    "if (Num % 2)==0:\n",
    "    print('The number',Num,'is even')\n",
    "else:\n",
    "    print('The number',Num,'is odd')"
   ]
  },
  {
   "cell_type": "code",
   "execution_count": 14,
   "id": "2dd9089e",
   "metadata": {},
   "outputs": [
    {
     "name": "stdout",
     "output_type": "stream",
     "text": [
      "Response 4\n",
      "2002\n",
      "2009\n",
      "2016\n",
      "2023\n",
      "2037\n",
      "2044\n",
      "2051\n",
      "2058\n",
      "2072\n",
      "2079\n",
      "2086\n",
      "2093\n",
      "2107\n",
      "2114\n",
      "2121\n",
      "2128\n",
      "2142\n",
      "2149\n",
      "2156\n",
      "2163\n",
      "2177\n",
      "2184\n",
      "2191\n",
      "2198\n",
      "2212\n",
      "2219\n",
      "2226\n",
      "2233\n",
      "2247\n",
      "2254\n",
      "2261\n",
      "2268\n",
      "2282\n",
      "2289\n",
      "2296\n",
      "2303\n",
      "2317\n",
      "2324\n",
      "2331\n",
      "2338\n",
      "2352\n",
      "2359\n",
      "2366\n",
      "2373\n",
      "2387\n",
      "2394\n",
      "2401\n",
      "2408\n",
      "2422\n",
      "2429\n",
      "2436\n",
      "2443\n",
      "2457\n",
      "2464\n",
      "2471\n",
      "2478\n",
      "2492\n",
      "2499\n",
      "2506\n",
      "2513\n",
      "2527\n",
      "2534\n",
      "2541\n",
      "2548\n",
      "2562\n",
      "2569\n",
      "2576\n",
      "2583\n",
      "2597\n",
      "2604\n",
      "2611\n",
      "2618\n",
      "2632\n",
      "2639\n",
      "2646\n",
      "2653\n",
      "2667\n",
      "2674\n",
      "2681\n",
      "2688\n",
      "2702\n",
      "2709\n",
      "2716\n",
      "2723\n",
      "2737\n",
      "2744\n",
      "2751\n",
      "2758\n",
      "2772\n",
      "2779\n",
      "2786\n",
      "2793\n",
      "2807\n",
      "2814\n",
      "2821\n",
      "2828\n",
      "2842\n",
      "2849\n",
      "2856\n",
      "2863\n",
      "2877\n",
      "2884\n",
      "2891\n",
      "2898\n",
      "2912\n",
      "2919\n",
      "2926\n",
      "2933\n",
      "2947\n",
      "2954\n",
      "2961\n",
      "2968\n",
      "2982\n",
      "2989\n",
      "2996\n",
      "3003\n",
      "3017\n",
      "3024\n",
      "3031\n",
      "3038\n",
      "3052\n",
      "3059\n",
      "3066\n",
      "3073\n",
      "3087\n",
      "3094\n",
      "3101\n",
      "3108\n",
      "3122\n",
      "3129\n",
      "3136\n",
      "3143\n",
      "3157\n",
      "3164\n",
      "3171\n",
      "3178\n",
      "3192\n",
      "3199\n"
     ]
    }
   ],
   "source": [
    "print('Response 4')\n",
    "for i in range(2000,3200):\n",
    "    if (i % 7)==0 and (i % 5)!=0 :\n",
    "        print(i)\n",
    "    i=i+1\n"
   ]
  },
  {
   "cell_type": "code",
   "execution_count": 17,
   "id": "2bed939f",
   "metadata": {},
   "outputs": [
    {
     "name": "stdout",
     "output_type": "stream",
     "text": [
      "Response 5\n",
      "Enter an integer: 8\n",
      "The result is 40320\n"
     ]
    }
   ],
   "source": [
    "print('Response 5')\n",
    "Number = input('Enter an integer: ')\n",
    "Num = int(Number)\n",
    "factorial = 1\n",
    "if Num==0:\n",
    "    print('The result is 1')\n",
    "else:\n",
    "    for i in range(1,Num+1):\n",
    "        factorial = factorial*i\n",
    "    print('The result is',factorial)"
   ]
  },
  {
   "cell_type": "code",
   "execution_count": 32,
   "id": "3d0bd6c9",
   "metadata": {},
   "outputs": [
    {
     "name": "stdout",
     "output_type": "stream",
     "text": [
      "Response 6\n",
      "Enter a string: python basic\n",
      "Original string: python basic\n",
      "Final string: pto ai\n"
     ]
    }
   ],
   "source": [
    "print('Response 6')\n",
    "String = input('Enter a string: ')\n",
    "def RemoveOddCharacters(String):\n",
    "    string1 = ''\n",
    "\n",
    "    for i in range(len(String)):\n",
    "        if(i % 2 == 0):\n",
    "            string1 = string1 + String[i]\n",
    "    return string1\n",
    "print('Original string:',String)\n",
    "print('Final string:',RemoveOddCharacters(String))"
   ]
  },
  {
   "cell_type": "code",
   "execution_count": 31,
   "id": "fb8cfe27",
   "metadata": {},
   "outputs": [
    {
     "name": "stdout",
     "output_type": "stream",
     "text": [
      "Response 7\n",
      "Enter price: 500\n",
      "the discount is 50% and the price is 250.0\n"
     ]
    }
   ],
   "source": [
    "print('Response 7')\n",
    "Price = input('Enter price: ')\n",
    "prix = int(Price)\n",
    "if prix>=500:\n",
    "    WithDiscount = prix-(prix*50/100)\n",
    "    print('the discount is 50% and the price is',WithDiscount)\n",
    "elif prix>=200 and prix<500:\n",
    "    WithDiscount = prix-(prix*30/100)\n",
    "    print('the discount is 30% and the price is',WithDiscount)\n",
    "else:\n",
    "    WithDiscount = prix-(prix*10/100)\n",
    "    print('the discount is 10% and the price is',WithDiscount)"
   ]
  },
  {
   "cell_type": "code",
   "execution_count": null,
   "id": "c54974b6",
   "metadata": {},
   "outputs": [],
   "source": []
  },
  {
   "cell_type": "code",
   "execution_count": null,
   "id": "f5cc46df",
   "metadata": {},
   "outputs": [],
   "source": []
  }
 ],
 "metadata": {
  "kernelspec": {
   "display_name": "Python 3 (ipykernel)",
   "language": "python",
   "name": "python3"
  },
  "language_info": {
   "codemirror_mode": {
    "name": "ipython",
    "version": 3
   },
   "file_extension": ".py",
   "mimetype": "text/x-python",
   "name": "python",
   "nbconvert_exporter": "python",
   "pygments_lexer": "ipython3",
   "version": "3.9.12"
  }
 },
 "nbformat": 4,
 "nbformat_minor": 5
}
